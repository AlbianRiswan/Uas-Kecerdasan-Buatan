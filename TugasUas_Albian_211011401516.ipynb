{
  "metadata": {
    "kernelspec": {
      "name": "python",
      "display_name": "Python (Pyodide)",
      "language": "python"
    },
    "language_info": {
      "codemirror_mode": {
        "name": "python",
        "version": 3
      },
      "file_extension": ".py",
      "mimetype": "text/x-python",
      "name": "python",
      "nbconvert_exporter": "python",
      "pygments_lexer": "ipython3",
      "version": "3.8"
    }
  },
  "nbformat_minor": 4,
  "nbformat": 4,
  "cells": [
    {
      "cell_type": "markdown",
      "source": "# Tutorial Implementasi Kecerdasan Buatan dengan Python\nNotebook ini berisi implementasi sederhana dari proyek machine learning menggunakan Python dan Scikit-Learn, berdasarkan tutorial dari [Python Machine Learning Tutorial (Data Science)](https://www.youtube.com/watch?v=7eh4d6sabA0).\n\n## Langkah-langkah\n1. Mengimpor library yang diperlukan\n2. Memuat dataset\n3. Membagi dataset menjadi training dan testing\n4. Melatih model\n5. Memprediksi hasil dan mengevaluasi model",
      "metadata": {}
    },
    {
      "cell_type": "code",
      "source": "# Tutorial Implementasi Kecerdasan Buatan dengan Python\nNotebook ini berisi implementasi sederhana dari proyek machine learning menggunakan Python dan Scikit-Learn, berdasarkan tutorial dari [Python Machine Learning Tutorial (Data Science)](https://www.youtube.com/watch?v=7eh4d6sabA0).\n\n## Langkah-langkah\n1. Mengimpor library yang diperlukan\n2. Memuat dataset\n3. Membagi dataset menjadi training dan testing\n4. Melatih model\n5. Memprediksi hasil dan mengevaluasi model\n\n\n# Mengimpor library yang diperlukan\nimport numpy as np\nimport pandas as pd\nfrom sklearn.model_selection import train_test_split\nfrom sklearn.linear_model import LinearRegression\nfrom sklearn.metrics import mean_squared_error\n\n# Memuat dataset\n# Dalam tutorial ini, kita akan menggunakan dataset contoh dari sklearn\nfrom sklearn.datasets import load_boston\nboston_dataset = load_boston()\n\n# Mengubah dataset menjadi DataFrame\ndata = pd.DataFrame(boston_dataset.data, columns=boston_dataset.feature_names)\ndata['MEDV'] = boston_dataset.target\n\n# Menampilkan beberapa baris data\ndata.head()\n\n# Membagi dataset menjadi training dan testing\nX = data.drop('MEDV', axis=1)\ny = data['MEDV']\nX_train, X_test, y_train, y_test = train_test_split(X, y, test_size=0.2, random_state=42)\n\n# Melatih model\nmodel = LinearRegression()\nmodel.fit(X_train, y_train)\n\n# Memprediksi hasil\ny_pred = model.predict(X_test)\n\n# Mengevaluasi model\nmse = mean_squared_error(y_test, y_pred)\nprint(f\"Mean Squared Error: {mse}\")\n\n# Menampilkan koefisien regresi\ncoefficients = pd.DataFrame(model.coef_, X.columns, columns=['Coefficient'])\ncoefficients\n",
      "metadata": {
        "trusted": true
      },
      "outputs": [],
      "execution_count": null
    }
  ]
}